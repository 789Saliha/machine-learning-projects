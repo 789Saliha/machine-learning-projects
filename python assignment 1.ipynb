{
 "cells": [
  {
   "cell_type": "markdown",
   "id": "a5244e06-543e-423d-a57f-4bd60c315681",
   "metadata": {},
   "source": [
    " # Write a Python program to print the following lines using a print() function"
   ]
  },
  {
   "cell_type": "code",
   "execution_count": 1,
   "id": "59372098-652d-4ddb-824e-70ceaed12e4b",
   "metadata": {},
   "outputs": [
    {
     "name": "stdout",
     "output_type": "stream",
     "text": [
      "Hello, World!\n",
      "Welcome to Python Programming\n"
     ]
    }
   ],
   "source": [
    "print(\"Hello, World!\\nWelcome to Python Programming\")"
   ]
  },
  {
   "cell_type": "markdown",
   "id": "e7a54c85-c774-4a3f-af05-9916c64aabf7",
   "metadata": {},
   "source": [
    "#  Write a python program to print the following lines in one line using two print ()functions by using the end parameter.\n"
   ]
  },
  {
   "cell_type": "code",
   "execution_count": 3,
   "id": "7a849e52-9fb9-4cf0-b632-5f0bef4686cd",
   "metadata": {},
   "outputs": [
    {
     "name": "stdout",
     "output_type": "stream",
     "text": [
      "Hello, World! Welcome to Python Programming\n"
     ]
    }
   ],
   "source": [
    "print(\"Hello, World!\", end=\" \")\n",
    "print(\"Welcome to Python Programming\")"
   ]
  },
  {
   "cell_type": "markdown",
   "id": "4146b832-30bb-4781-9d31-aa9dbdc9eff2",
   "metadata": {},
   "source": [
    " #  Create variables for your name, age, and country. Then, use the print() function to print the following message using f-string.\n",
    "\n"
   ]
  },
  {
   "cell_type": "code",
   "execution_count": 11,
   "id": "9dcfd895-f008-495c-8e09-8e3d42b2b7b7",
   "metadata": {},
   "outputs": [
    {
     "name": "stdout",
     "output_type": "stream",
     "text": [
      "My name is Saliha Mehmood. I am 18 years old.I am from Pakistan.\n"
     ]
    }
   ],
   "source": [
    "name = \"Saliha Mehmood\"\n",
    "age = 18\n",
    "country = \"Pakistan\"\n",
    "print(f\"My name is {name}. I am {age} years old.I am from {country}.\")"
   ]
  },
  {
   "cell_type": "markdown",
   "id": "1a1ceb2c-c2be-450f-8899-96ddf4f02cd3",
   "metadata": {},
   "source": [
    " # Create variables of the following types and print their types using th"
   ]
  },
  {
   "cell_type": "code",
   "execution_count": 13,
   "id": "eb952e95-fd71-40fd-8d8f-88801a49ac28",
   "metadata": {},
   "outputs": [
    {
     "ename": "SyntaxError",
     "evalue": "unterminated string literal (detected at line 3) (3624116485.py, line 3)",
     "output_type": "error",
     "traceback": [
      "\u001b[1;36m  Cell \u001b[1;32mIn[13], line 3\u001b[1;36m\u001b[0m\n\u001b[1;33m    string = \"Saliha\u001b[0m\n\u001b[1;37m             ^\u001b[0m\n\u001b[1;31mSyntaxError\u001b[0m\u001b[1;31m:\u001b[0m unterminated string literal (detected at line 3)\n"
     ]
    }
   ],
   "source": [
    "int = 10\n",
    "float = 12.4\n",
    "string = \"Saliha\n",
    "print(\"Type of int:\", type(int))"
   ]
  },
  {
   "cell_type": "code",
   "execution_count": null,
   "id": "ef73cbef-7160-4237-aa5b-9b9b3d63a6bc",
   "metadata": {},
   "outputs": [],
   "source": []
  },
  {
   "cell_type": "code",
   "execution_count": null,
   "id": "24e55557-c9fe-4eaf-8ada-26fc64037069",
   "metadata": {},
   "outputs": [],
   "source": []
  }
 ],
 "metadata": {
  "kernelspec": {
   "display_name": "Python 3 (ipykernel)",
   "language": "python",
   "name": "python3"
  },
  "language_info": {
   "codemirror_mode": {
    "name": "ipython",
    "version": 3
   },
   "file_extension": ".py",
   "mimetype": "text/x-python",
   "name": "python",
   "nbconvert_exporter": "python",
   "pygments_lexer": "ipython3",
   "version": "3.11.7"
  }
 },
 "nbformat": 4,
 "nbformat_minor": 5
}
